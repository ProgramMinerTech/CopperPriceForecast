{
 "cells": [
  {
   "cell_type": "markdown",
   "metadata": {},
   "source": [
    "# Forecast for Copper Price"
   ]
  },
  {
   "cell_type": "markdown",
   "metadata": {},
   "source": [
    "### Step 01: Import libraries"
   ]
  },
  {
   "cell_type": "code",
   "execution_count": null,
   "metadata": {},
   "outputs": [],
   "source": [
    "import pandas as pd\n",
    "import matplotlib.pyplot as plt\n",
    "import xgboost as xgb\n",
    "import matplotlib.pyplot as plt\n",
    "from sklearn.model_selection import train_test_split\n",
    "from sklearn.metrics import r2_score"
   ]
  },
  {
   "cell_type": "markdown",
   "metadata": {},
   "source": [
    "### Step 02: Find the tables on website \"Westmetall\""
   ]
  },
  {
   "cell_type": "code",
   "execution_count": 301,
   "metadata": {},
   "outputs": [
    {
     "name": "stdout",
     "output_type": "stream",
     "text": [
      "<class 'pandas.core.frame.DataFrame'>\n",
      "RangeIndex: 4544 entries, 0 to 4543\n",
      "Data columns (total 4 columns):\n",
      " #   Column                      Non-Null Count  Dtype \n",
      "---  ------                      --------------  ----- \n",
      " 0   date                        4544 non-null   object\n",
      " 1   LME Copper Cash-Settlement  4544 non-null   object\n",
      " 2   LME Copper 3-month          4544 non-null   object\n",
      " 3   LME Copper stock            4544 non-null   object\n",
      "dtypes: object(4)\n",
      "memory usage: 142.1+ KB\n"
     ]
    }
   ],
   "source": [
    "data = pd.read_html(\"https://www.westmetall.com/en/markdaten.php?action=table&field=LME_Cu_cash\")\n",
    "table = pd.concat(data, ignore_index=True)\n",
    "table.info()"
   ]
  },
  {
   "cell_type": "markdown",
   "metadata": {},
   "source": [
    "### Step 03: Formatting the table for processing"
   ]
  },
  {
   "cell_type": "markdown",
   "metadata": {},
   "source": [
    "1. Format the \"date\" column.\n",
    "2. Separate days, months and years into differents columns.\n",
    "3. Convert the values of the columns \"LME Copper Cash-Settlement\", \"LME Copper 3-month\", and \"LME Copper stock\" to float."
   ]
  },
  {
   "cell_type": "code",
   "execution_count": 302,
   "metadata": {},
   "outputs": [
    {
     "name": "stdout",
     "output_type": "stream",
     "text": [
      "<class 'pandas.core.frame.DataFrame'>\n",
      "Index: 4355 entries, 0 to 4543\n",
      "Data columns (total 7 columns):\n",
      " #   Column                      Non-Null Count  Dtype         \n",
      "---  ------                      --------------  -----         \n",
      " 0   date                        4355 non-null   datetime64[ns]\n",
      " 1   LME Copper Cash-Settlement  4352 non-null   float64       \n",
      " 2   LME Copper 3-month          4352 non-null   float64       \n",
      " 3   LME Copper stock            4354 non-null   float64       \n",
      " 4   year                        4355 non-null   int32         \n",
      " 5   month                       4355 non-null   int32         \n",
      " 6   day                         4355 non-null   int32         \n",
      "dtypes: datetime64[ns](1), float64(3), int32(3)\n",
      "memory usage: 221.2 KB\n"
     ]
    }
   ],
   "source": [
    "table = table[table[\"date\"]!= \"date\"]\n",
    "table[\"date\"] = pd.to_datetime(table[\"date\"], format=\"%d. %B %Y\")  \n",
    "table[\"year\"] = table[\"date\"].dt.year\n",
    "table[\"month\"] = table[\"date\"].dt.month\n",
    "table[\"day\"] = table[\"date\"].dt.day\n",
    "table[[\"LME Copper Cash-Settlement\", \"LME Copper 3-month\", \"LME Copper stock\"]] = table[[\n",
    "    \"LME Copper Cash-Settlement\", \"LME Copper 3-month\", \"LME Copper stock\"\n",
    "]].apply(pd.to_numeric, errors=\"coerce\")\n",
    "\n",
    "table.info()\n"
   ]
  },
  {
   "cell_type": "markdown",
   "metadata": {},
   "source": [
    "Visualize data"
   ]
  },
  {
   "cell_type": "code",
   "execution_count": 303,
   "metadata": {},
   "outputs": [
    {
     "data": {
      "text/html": [
       "<div>\n",
       "<style scoped>\n",
       "    .dataframe tbody tr th:only-of-type {\n",
       "        vertical-align: middle;\n",
       "    }\n",
       "\n",
       "    .dataframe tbody tr th {\n",
       "        vertical-align: top;\n",
       "    }\n",
       "\n",
       "    .dataframe thead th {\n",
       "        text-align: right;\n",
       "    }\n",
       "</style>\n",
       "<table border=\"1\" class=\"dataframe\">\n",
       "  <thead>\n",
       "    <tr style=\"text-align: right;\">\n",
       "      <th></th>\n",
       "      <th>date</th>\n",
       "      <th>LME Copper Cash-Settlement</th>\n",
       "      <th>LME Copper 3-month</th>\n",
       "      <th>LME Copper stock</th>\n",
       "      <th>year</th>\n",
       "      <th>month</th>\n",
       "      <th>day</th>\n",
       "    </tr>\n",
       "  </thead>\n",
       "  <tbody>\n",
       "    <tr>\n",
       "      <th>0</th>\n",
       "      <td>2025-03-20</td>\n",
       "      <td>9911.5</td>\n",
       "      <td>9951.0</td>\n",
       "      <td>223275.0</td>\n",
       "      <td>2025</td>\n",
       "      <td>3</td>\n",
       "      <td>20</td>\n",
       "    </tr>\n",
       "    <tr>\n",
       "      <th>1</th>\n",
       "      <td>2025-03-19</td>\n",
       "      <td>9914.0</td>\n",
       "      <td>9955.0</td>\n",
       "      <td>225175.0</td>\n",
       "      <td>2025</td>\n",
       "      <td>3</td>\n",
       "      <td>19</td>\n",
       "    </tr>\n",
       "    <tr>\n",
       "      <th>2</th>\n",
       "      <td>2025-03-18</td>\n",
       "      <td>9834.0</td>\n",
       "      <td>9888.0</td>\n",
       "      <td>227700.0</td>\n",
       "      <td>2025</td>\n",
       "      <td>3</td>\n",
       "      <td>18</td>\n",
       "    </tr>\n",
       "    <tr>\n",
       "      <th>3</th>\n",
       "      <td>2025-03-17</td>\n",
       "      <td>9748.0</td>\n",
       "      <td>9820.0</td>\n",
       "      <td>230975.0</td>\n",
       "      <td>2025</td>\n",
       "      <td>3</td>\n",
       "      <td>17</td>\n",
       "    </tr>\n",
       "    <tr>\n",
       "      <th>4</th>\n",
       "      <td>2025-03-14</td>\n",
       "      <td>9759.0</td>\n",
       "      <td>9810.0</td>\n",
       "      <td>233750.0</td>\n",
       "      <td>2025</td>\n",
       "      <td>3</td>\n",
       "      <td>14</td>\n",
       "    </tr>\n",
       "  </tbody>\n",
       "</table>\n",
       "</div>"
      ],
      "text/plain": [
       "        date  LME Copper Cash-Settlement  LME Copper 3-month  \\\n",
       "0 2025-03-20                      9911.5              9951.0   \n",
       "1 2025-03-19                      9914.0              9955.0   \n",
       "2 2025-03-18                      9834.0              9888.0   \n",
       "3 2025-03-17                      9748.0              9820.0   \n",
       "4 2025-03-14                      9759.0              9810.0   \n",
       "\n",
       "   LME Copper stock  year  month  day  \n",
       "0          223275.0  2025      3   20  \n",
       "1          225175.0  2025      3   19  \n",
       "2          227700.0  2025      3   18  \n",
       "3          230975.0  2025      3   17  \n",
       "4          233750.0  2025      3   14  "
      ]
     },
     "execution_count": 303,
     "metadata": {},
     "output_type": "execute_result"
    }
   ],
   "source": [
    "table.head()"
   ]
  },
  {
   "cell_type": "markdown",
   "metadata": {},
   "source": [
    "Null Values"
   ]
  },
  {
   "cell_type": "code",
   "execution_count": 304,
   "metadata": {},
   "outputs": [
    {
     "data": {
      "text/plain": [
       "date                          0\n",
       "LME Copper Cash-Settlement    3\n",
       "LME Copper 3-month            3\n",
       "LME Copper stock              1\n",
       "year                          0\n",
       "month                         0\n",
       "day                           0\n",
       "dtype: int64"
      ]
     },
     "execution_count": 304,
     "metadata": {},
     "output_type": "execute_result"
    }
   ],
   "source": [
    "table.isna().sum()"
   ]
  },
  {
   "cell_type": "code",
   "execution_count": 305,
   "metadata": {},
   "outputs": [],
   "source": [
    "table = table.dropna()"
   ]
  },
  {
   "cell_type": "markdown",
   "metadata": {},
   "source": [
    "Verify"
   ]
  },
  {
   "cell_type": "code",
   "execution_count": 306,
   "metadata": {},
   "outputs": [
    {
     "data": {
      "text/plain": [
       "date                          0\n",
       "LME Copper Cash-Settlement    0\n",
       "LME Copper 3-month            0\n",
       "LME Copper stock              0\n",
       "year                          0\n",
       "month                         0\n",
       "day                           0\n",
       "dtype: int64"
      ]
     },
     "execution_count": 306,
     "metadata": {},
     "output_type": "execute_result"
    }
   ],
   "source": [
    "table.isna().sum()"
   ]
  },
  {
   "cell_type": "markdown",
   "metadata": {},
   "source": [
    "### Step 04: Model Training"
   ]
  },
  {
   "cell_type": "markdown",
   "metadata": {},
   "source": [
    "Variables assigment"
   ]
  },
  {
   "cell_type": "code",
   "execution_count": 307,
   "metadata": {},
   "outputs": [],
   "source": [
    "X = table[[\"LME Copper stock\", \"year\", \"month\", \"day\"]]\n",
    "y = table[\"LME Copper Cash-Settlement\"]"
   ]
  },
  {
   "cell_type": "markdown",
   "metadata": {},
   "source": [
    "Parameters"
   ]
  },
  {
   "cell_type": "code",
   "execution_count": 308,
   "metadata": {},
   "outputs": [],
   "source": [
    "X_train, X_test, y_train, y_test = train_test_split(X, y, test_size=0.2, random_state=42)"
   ]
  },
  {
   "cell_type": "code",
   "execution_count": 309,
   "metadata": {},
   "outputs": [
    {
     "data": {
      "text/plain": [
       "<Axes: title={'center': 'Feature importance'}, xlabel='Importance score', ylabel='Features'>"
      ]
     },
     "execution_count": 309,
     "metadata": {},
     "output_type": "execute_result"
    },
    {
     "data": {
      "image/png": "[encoded data removed]",
      "text/plain": [
       "<Figure size 640x480 with 1 Axes>"
      ]
     },
     "metadata": {},
     "output_type": "display_data"
    }
   ],
   "source": [
    "model = xgb.XGBRegressor(objective=\"reg:squarederror\",\n",
    "                         n_estimators=100,\n",
    "                         learning_rate=0.1,\n",
    "                         max_depth = 8,\n",
    "                         subsample = 0.9,\n",
    "                         colsample_bytree = 0.9)\n",
    "model.fit(X_train, y_train)\n",
    "\n",
    "xgb.plot_importance(model, ax =plt.gca())"
   ]
  },
  {
   "cell_type": "code",
   "execution_count": 310,
   "metadata": {},
   "outputs": [
    {
     "name": "stdout",
     "output_type": "stream",
     "text": [
      "MSE: 0.9863428874783594\n",
      "RMSE: 0.9931479685718334\n"
     ]
    }
   ],
   "source": [
    "y_pred = model.predict(X_test)\n",
    "mse = r2_score(y_test, y_pred) \n",
    "rmse = mse ** 0.5 \n",
    "\n",
    "print(f\"MSE: {mse}\")\n",
    "print(f\"RMSE: {rmse}\")"
   ]
  }
 ],
 "metadata": {
  "kernelspec": {
   "display_name": "env",
   "language": "python",
   "name": "python3"
  },
  "language_info": {
   "codemirror_mode": {
    "name": "ipython",
    "version": 3
   },
   "file_extension": ".py",
   "mimetype": "text/x-python",
   "name": "python",
   "nbconvert_exporter": "python",
   "pygments_lexer": "ipython3",
   "version": "3.12.9"
  }
 },
 "nbformat": 4,
 "nbformat_minor": 2
}
